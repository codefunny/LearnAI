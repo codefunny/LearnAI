{
  "cells": [
    {
      "cell_type": "code",
      "execution_count": 8,
      "metadata": {
        "id": "2cH-F06ZvF3q",
        "outputId": "e2ec5976-bf77-40b3-f17f-7cedb92ed1ad",
        "colab": {
          "base_uri": "https://localhost:8080/"
        }
      },
      "outputs": [
        {
          "output_type": "stream",
          "name": "stdout",
          "text": [
            "2.6.0+cu124\n",
            "False\n",
            "tensor([[0.6424, 0.5518, 0.1051],\n",
            "        [0.5273, 0.2051, 0.0969],\n",
            "        [0.8251, 0.6165, 0.7288],\n",
            "        [0.6454, 0.4644, 0.5800],\n",
            "        [0.8111, 0.1365, 0.8772]])\n",
            "tensor([[0., 0., 0.],\n",
            "        [0., 0., 0.]]) tensor([[1., 1., 1.],\n",
            "        [1., 1., 1.]]) tensor([[-0.2141,  1.7086,  0.7178],\n",
            "        [-0.5088,  1.1844, -0.8464]])\n",
            "tensor([[0.7859, 2.7086, 1.7178],\n",
            "        [0.4912, 2.1844, 0.1536]])\n",
            "tensor([[-0.2141,  1.7086,  0.7178],\n",
            "        [-0.5088,  1.1844, -0.8464]])\n",
            "torch.Size([2, 3])\n",
            "tensor([2.])\n"
          ]
        }
      ],
      "source": [
        "import torch\n",
        "\n",
        "print(torch.__version__)\n",
        "print(torch.cuda.is_available())\n",
        "\n",
        "x = torch.rand(5,3)\n",
        "print(x)\n",
        "\n",
        "a = torch.zeros(2,3)\n",
        "b = torch.ones(2,3)\n",
        "c = torch.randn(2,3)\n",
        "print(a,b,c)\n",
        "print(a+b+c)\n",
        "print(b * c)\n",
        "print(a.shape)\n",
        "\n",
        "tensor_requires_grad = torch.tensor([1.0], requires_grad=True)\n",
        "\n",
        "# 进行一些操作\n",
        "tensor_result = tensor_requires_grad * 2\n",
        "\n",
        "# 计算梯度\n",
        "tensor_result.backward()\n",
        "print(tensor_requires_grad.grad)  # 输出梯度"
      ]
    },
    {
      "cell_type": "code",
      "source": [
        "import torch.nn as nn\n",
        "import torch.optim as optim\n",
        "\n",
        "class SimpleNN(nn.Module):\n",
        "  def __init__(self):\n",
        "    super(SimpleNN,self).__init()\n",
        "    self.fc1 = nn.Linear(2,2)\n",
        "    self.fc2 = nn.Linear(2,1)\n",
        "\n",
        "  def forward(self, x):\n",
        "    x = torch.relu(self.fc1(x))\n",
        "    x = self.fc2(x)\n",
        "    return x\n",
        "\n",
        "model = SimpleNN()\n",
        "print(model)"
      ],
      "metadata": {
        "id": "LrPau7GDx5x_"
      },
      "execution_count": null,
      "outputs": []
    }
  ],
  "metadata": {
    "kernelspec": {
      "display_name": "Python 3",
      "language": "python",
      "name": "python3"
    },
    "language_info": {
      "codemirror_mode": {
        "name": "ipython",
        "version": 3
      },
      "file_extension": ".py",
      "mimetype": "text/x-python",
      "name": "python",
      "nbconvert_exporter": "python",
      "pygments_lexer": "ipython3",
      "version": "3.10.12"
    },
    "colab": {
      "provenance": []
    }
  },
  "nbformat": 4,
  "nbformat_minor": 0
}